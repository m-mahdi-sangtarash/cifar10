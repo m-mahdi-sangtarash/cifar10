{
  "nbformat": 4,
  "nbformat_minor": 0,
  "metadata": {
    "colab": {
      "provenance": [],
      "gpuType": "T4"
    },
    "kernelspec": {
      "name": "python3",
      "display_name": "Python 3"
    },
    "language_info": {
      "name": "python"
    },
    "accelerator": "GPU"
  },
  "cells": [
    {
      "cell_type": "code",
      "execution_count": 2,
      "metadata": {
        "colab": {
          "base_uri": "https://localhost:8080/"
        },
        "id": "2ektFc34AyNa",
        "outputId": "ff3ec1ef-63f9-42f0-96b2-81ffc4c07ea4"
      },
      "outputs": [
        {
          "output_type": "stream",
          "name": "stdout",
          "text": [
            "Epoch 1/20\n",
            "782/782 [==============================] - 12s 9ms/step - loss: 1.7361 - accuracy: 0.3705 - val_loss: 1.4971 - val_accuracy: 0.4533\n",
            "Epoch 2/20\n",
            "782/782 [==============================] - 6s 8ms/step - loss: 1.3957 - accuracy: 0.5011 - val_loss: 1.2914 - val_accuracy: 0.5380\n",
            "Epoch 3/20\n",
            "782/782 [==============================] - 6s 8ms/step - loss: 1.2080 - accuracy: 0.5718 - val_loss: 1.1775 - val_accuracy: 0.5874\n",
            "Epoch 4/20\n",
            "782/782 [==============================] - 6s 8ms/step - loss: 1.0888 - accuracy: 0.6153 - val_loss: 1.0959 - val_accuracy: 0.6192\n",
            "Epoch 5/20\n",
            "782/782 [==============================] - 6s 8ms/step - loss: 0.9970 - accuracy: 0.6495 - val_loss: 0.9977 - val_accuracy: 0.6546\n",
            "Epoch 6/20\n",
            "782/782 [==============================] - 6s 8ms/step - loss: 0.9131 - accuracy: 0.6820 - val_loss: 1.0138 - val_accuracy: 0.6507\n",
            "Epoch 7/20\n",
            "782/782 [==============================] - 7s 9ms/step - loss: 0.8464 - accuracy: 0.7054 - val_loss: 0.9261 - val_accuracy: 0.6821\n",
            "Epoch 8/20\n",
            "782/782 [==============================] - 6s 7ms/step - loss: 0.7867 - accuracy: 0.7274 - val_loss: 0.8966 - val_accuracy: 0.6876\n",
            "Epoch 9/20\n",
            "782/782 [==============================] - 6s 8ms/step - loss: 0.7200 - accuracy: 0.7505 - val_loss: 0.8865 - val_accuracy: 0.6943\n",
            "Epoch 10/20\n",
            "782/782 [==============================] - 6s 8ms/step - loss: 0.6704 - accuracy: 0.7673 - val_loss: 0.8829 - val_accuracy: 0.6961\n",
            "Epoch 11/20\n",
            "782/782 [==============================] - 6s 8ms/step - loss: 0.6187 - accuracy: 0.7856 - val_loss: 0.8571 - val_accuracy: 0.7108\n",
            "Epoch 12/20\n",
            "782/782 [==============================] - 6s 8ms/step - loss: 0.5730 - accuracy: 0.7999 - val_loss: 0.8508 - val_accuracy: 0.7172\n",
            "Epoch 13/20\n",
            "782/782 [==============================] - 6s 8ms/step - loss: 0.5227 - accuracy: 0.8171 - val_loss: 0.9044 - val_accuracy: 0.7039\n",
            "Epoch 14/20\n",
            "782/782 [==============================] - 6s 8ms/step - loss: 0.4842 - accuracy: 0.8303 - val_loss: 0.9266 - val_accuracy: 0.6964\n",
            "Epoch 15/20\n",
            "782/782 [==============================] - 6s 8ms/step - loss: 0.4401 - accuracy: 0.8463 - val_loss: 0.9160 - val_accuracy: 0.7198\n",
            "Epoch 16/20\n",
            "782/782 [==============================] - 6s 8ms/step - loss: 0.3955 - accuracy: 0.8611 - val_loss: 0.9386 - val_accuracy: 0.7125\n",
            "Epoch 17/20\n",
            "782/782 [==============================] - 6s 8ms/step - loss: 0.3548 - accuracy: 0.8748 - val_loss: 0.9934 - val_accuracy: 0.7019\n",
            "Epoch 18/20\n",
            "782/782 [==============================] - 7s 9ms/step - loss: 0.3132 - accuracy: 0.8916 - val_loss: 1.0188 - val_accuracy: 0.7164\n",
            "Epoch 19/20\n",
            "782/782 [==============================] - 6s 8ms/step - loss: 0.2803 - accuracy: 0.9021 - val_loss: 1.0301 - val_accuracy: 0.7171\n",
            "Epoch 20/20\n",
            "782/782 [==============================] - 6s 8ms/step - loss: 0.2452 - accuracy: 0.9125 - val_loss: 1.1019 - val_accuracy: 0.7084\n",
            "313/313 [==============================] - 1s 3ms/step - loss: 1.1019 - accuracy: 0.7084\n",
            " > 70.840\n"
          ]
        }
      ],
      "source": [
        "import tensorflow as tf\n",
        "\n",
        "\n",
        "def load_dataset():\n",
        "  (xtrain, ytrain), (xtest, ytest) = tf.keras.datasets.cifar10.load_data()\n",
        "\n",
        "  xtrain = xtrain.astype('float32')\n",
        "  xtest = xtest.astype('float32')\n",
        "\n",
        "  xtrain = xtrain / 255.0\n",
        "  xtest = xtest / 255.0\n",
        "\n",
        "  ytrain = tf.keras.utils.to_categorical(ytrain)\n",
        "  ytest = tf.keras.utils.to_categorical(ytest)\n",
        "\n",
        "  return xtrain, ytrain, xtest, ytest\n",
        "\n",
        "def define_model():\n",
        "  model = tf.keras.models.Sequential()\n",
        "\n",
        "  model.add(tf.keras.layers.Conv2D(32, (3, 3), activation='relu', kernel_initializer='he_uniform', padding='same', input_shape=(32, 32, 3)))\n",
        "  model.add(tf.keras.layers.Conv2D(32, (3, 3), activation='relu', kernel_initializer='he_uniform', padding='same'))\n",
        "  model.add(tf.keras.layers.MaxPooling2D((2, 2)))\n",
        "\n",
        "  model.add(tf.keras.layers.Conv2D(64, (3, 3), activation='relu', kernel_initializer='he_uniform', padding='same'))\n",
        "  model.add(tf.keras.layers.Conv2D(64, (3, 3), activation='relu', kernel_initializer='he_uniform', padding='same'))\n",
        "  model.add(tf.keras.layers.MaxPooling2D((2, 2)))\n",
        "\n",
        "  model.add(tf.keras.layers.Conv2D(128, (3, 3), activation='relu', kernel_initializer='he_uniform', padding='same'))\n",
        "  model.add(tf.keras.layers.Conv2D(128, (3, 3), activation='relu', kernel_initializer='he_uniform', padding='same'))\n",
        "  model.add(tf.keras.layers.MaxPooling2D((2, 2)))\n",
        "\n",
        "  model.add(tf.keras.layers.Flatten())\n",
        "  model.add(tf.keras.layers.Dense(128, activation='relu', kernel_initializer='he_uniform'))\n",
        "  model.add(tf.keras.layers.Dense(10, activation='softmax'))\n",
        "\n",
        "  return model\n",
        "\n",
        "\n",
        "xtrain, ytrain, xtest, ytest = load_dataset()\n",
        "\n",
        "opt = tf.keras.optimizers.SGD(learning_rate=0.001, momentum=0.9)\n",
        "\n",
        "model = define_model()\n",
        "\n",
        "model.compile(optimizer=opt, loss='categorical_crossentropy', metrics=['accuracy'])\n",
        "\n",
        "model.fit(xtrain, ytrain, epochs=20, batch_size=64, validation_data=(xtest, ytest))\n",
        "\n",
        "loss, accuracy = model.evaluate(xtest, ytest)\n",
        "\n",
        "print(' > %.3F' % (accuracy * 100.0))"
      ]
    }
  ]
}